{
  "nbformat": 4,
  "nbformat_minor": 0,
  "metadata": {
    "colab": {
      "name": "MinooTestProject1.ipynb",
      "provenance": [],
      "mount_file_id": "1w3-JxT4HMGyIal14TMlQM6HNXIrktzll",
      "authorship_tag": "ABX9TyOr1jvB3CqyJX1eMjpdLc8E",
      "include_colab_link": true
    },
    "kernelspec": {
      "name": "python3",
      "display_name": "Python 3"
    },
    "language_info": {
      "name": "python"
    }
  },
  "cells": [
    {
      "cell_type": "markdown",
      "metadata": {
        "id": "view-in-github",
        "colab_type": "text"
      },
      "source": [
        "<a href=\"https://colab.research.google.com/github/AnalysisByDoing/visualizations-jschk/blob/main/MinooTestProject1.ipynb\" target=\"_parent\"><img src=\"https://colab.research.google.com/assets/colab-badge.svg\" alt=\"Open In Colab\"/></a>"
      ]
    },
    {
      "cell_type": "markdown",
      "source": [
        "<h1>This is Minoo's Notebook</h1>"
      ],
      "metadata": {
        "id": "u91rUshgXjrK"
      }
    },
    {
      "cell_type": "code",
      "source": [
        "print(\"Hello World\")"
      ],
      "metadata": {
        "colab": {
          "base_uri": "https://localhost:8080/"
        },
        "id": "RnDAf9ESXsGC",
        "outputId": "eece3b13-e32f-4013-cdfb-eb55a8928a0a"
      },
      "execution_count": 1,
      "outputs": [
        {
          "output_type": "stream",
          "name": "stdout",
          "text": [
            "Hello World\n"
          ]
        }
      ]
    },
    {
      "cell_type": "markdown",
      "source": [
        ""
      ],
      "metadata": {
        "id": "TM7g4TdQXiPM"
      }
    }
  ]
}